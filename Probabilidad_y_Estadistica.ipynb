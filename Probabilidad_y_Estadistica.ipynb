{
  "nbformat": 4,
  "nbformat_minor": 0,
  "metadata": {
    "colab": {
      "name": "Probabilidad y Estadistica",
      "provenance": [],
      "collapsed_sections": [
        "7ACKQmPwkrDg",
        "_9RNhmwumoym"
      ],
      "toc_visible": true,
      "authorship_tag": "ABX9TyOqzTA3PyD8FeaWr9Fr4MG3",
      "include_colab_link": true
    },
    "kernelspec": {
      "name": "python3",
      "display_name": "Python 3"
    },
    "language_info": {
      "name": "python"
    }
  },
  "cells": [
    {
      "cell_type": "markdown",
      "metadata": {
        "id": "view-in-github",
        "colab_type": "text"
      },
      "source": [
        "<a href=\"https://colab.research.google.com/github/brayanricardo13/Estadistica-/blob/main/Probabilidad_y_Estadistica.ipynb\" target=\"_parent\"><img src=\"https://colab.research.google.com/assets/colab-badge.svg\" alt=\"Open In Colab\"/></a>"
      ]
    },
    {
      "cell_type": "markdown",
      "source": [
        "# **Ley de los grandes números**"
      ],
      "metadata": {
        "id": "7ACKQmPwkrDg"
      }
    },
    {
      "cell_type": "markdown",
      "source": [
        "- Si se repite un experimento aleatorio, bajo las mismas condiciones, un número ilimitado de veces; y si estas repeticiones son independientes la una de la otra, entonces la frecuencia de veces que un evento A ocurra, convergerá con probabilidad 1 a un número que es igual a la probabilidad de que A ocurra en una sola repetición del experimento"
      ],
      "metadata": {
        "id": "rhUL93Bik4nr"
      }
    },
    {
      "cell_type": "code",
      "source": [
        "import pandas as pd\n",
        "import numpy as np\n",
        "import matplotlib.pyplot as plt"
      ],
      "metadata": {
        "id": "L95UbFYPlYlf"
      },
      "execution_count": 7,
      "outputs": []
    },
    {
      "cell_type": "code",
      "execution_count": 10,
      "metadata": {
        "id": "qDkIlWj5jdTN"
      },
      "outputs": [],
      "source": [
        "# Ejemplo ley de grandes números\n",
        "# moneda p=1/2 cara=1 sella=0\n",
        "resultados = []\n",
        "for lanzamientos in range(1,10000):\n",
        "    lanzamientos = np.random.choice([0,1], lanzamientos) \n",
        "    caras = lanzamientos.mean()\n",
        "    resultados.append(caras)"
      ]
    },
    {
      "cell_type": "code",
      "source": [
        "# graficamente\n",
        "df = pd.DataFrame({ 'lanzamientos' : resultados})\n",
        "df.plot(title='Ley de grandes números',color='r',figsize=(8, 6))\n",
        "plt.axhline(0.5)\n",
        "plt.xlabel(\"Número de lanzamientos\")\n",
        "plt.ylabel(\"frecuencia caras\")\n",
        "plt.show()"
      ],
      "metadata": {
        "id": "EGQpqlSXlVtX"
      },
      "execution_count": null,
      "outputs": []
    },
    {
      "cell_type": "code",
      "source": [
        "# moneda p=1/6 cara=1 seca=0\n",
        "resultados = []\n",
        "for lanzamientos in range(1,10000):\n",
        "    lanzamientos = np.random.choice([0,1], lanzamientos, p=[5/6, 1/6]) \n",
        "    caras = lanzamientos.mean()\n",
        "    resultados.append(caras)\n",
        "# graficamente\n",
        "df = pd.DataFrame({ 'lanzamientos' : resultados})\n",
        "\n",
        "df.plot(title='Ley de grandes números',color='b',figsize=(8, 6))\n",
        "plt.axhline(1/6)\n",
        "plt.xlabel(\"Número de lanzamientos\")\n",
        "plt.ylabel(\"frecuencia caras\")\n",
        "plt.show()"
      ],
      "metadata": {
        "id": "JWY5CRJbmXbn"
      },
      "execution_count": null,
      "outputs": []
    },
    {
      "cell_type": "markdown",
      "source": [
        "# **El Teorema del límite central**"
      ],
      "metadata": {
        "id": "_9RNhmwumoym"
      }
    },
    {
      "cell_type": "markdown",
      "source": [
        "- El teorema central del límite  es una teoría estadística que establece que, dada una muestra aleatoria suficientemente grande de la población, la distribución de las medias muestrales seguirá una distribución normal."
      ],
      "metadata": {
        "id": "C3-imFHOmwhh"
      }
    },
    {
      "cell_type": "code",
      "source": [
        "muestra_binomial = []\n",
        "muestra_exp = []\n",
        "muestra_possion = []\n",
        "muestra_geometric = []\n",
        "mu = .9\n",
        "lam = 1.0\n",
        "size=1000\n",
        "\n",
        "for i in range(1,20000):\n",
        "    muestra = np.random.binomial(1, mu, size=size)\n",
        "    muestra_binomial.append(muestra.mean())\n",
        "    muestra = np.random.exponential(scale=2.0,size=size)\n",
        "    muestra_exp.append(muestra.mean())\n",
        "    muestra = np.random.geometric(p=.5, size=size)\n",
        "    muestra_geometric.append(muestra.mean())\n",
        "    muestra = np.random.poisson (lam=lam, size=size)\n",
        "    muestra_possion.append(muestra.mean()) "
      ],
      "metadata": {
        "id": "yr7W5m31mu95"
      },
      "execution_count": 14,
      "outputs": []
    },
    {
      "cell_type": "code",
      "source": [
        "df = pd.DataFrame({ 'binomial' : muestra_binomial, \n",
        "                     'poission' : muestra_possion,\n",
        "                     'geometrica' : muestra_geometric,\n",
        "                    'exponencial' : muestra_exp})\n",
        "\n",
        "fig, axes = plt.subplots(nrows=2, ncols=2, figsize=(10,10))\n",
        "df.binomial.hist(ax=axes[0,0], alpha=0.9, bins=1000)\n",
        "df.exponencial.hist(ax=axes[0,1],bins=1000)\n",
        "df.poission.hist(ax=axes[1,0],bins=1000)\n",
        "df.geometrica.hist(ax=axes[1,1],bins=1000)\n",
        "\n",
        "axes[0,0].set_title('Binomial')\n",
        "axes[0,1].set_title('Poisson')\n",
        "axes[1,0].set_title('Geométrica')\n",
        "axes[1,1].set_title('Exponencial')\n",
        "plt.show()"
      ],
      "metadata": {
        "id": "jOZAKJKPnKMp"
      },
      "execution_count": null,
      "outputs": []
    }
  ]
}